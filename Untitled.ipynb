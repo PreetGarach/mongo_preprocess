{
 "cells": [
  {
   "cell_type": "code",
   "execution_count": 1,
   "id": "03a98a9e",
   "metadata": {},
   "outputs": [],
   "source": [
    "import pandas as pd"
   ]
  },
  {
   "cell_type": "code",
   "execution_count": null,
   "id": "82d90ab7",
   "metadata": {},
   "outputs": [],
   "source": []
  },
  {
   "cell_type": "code",
   "execution_count": 2,
   "id": "3e5612c7",
   "metadata": {},
   "outputs": [],
   "source": [
    "targ = pd.read_csv('profitability_target.csv')\n",
    "df = pd.read_csv('logs_DB_processed_19042023.csv')"
   ]
  },
  {
   "cell_type": "code",
   "execution_count": 5,
   "id": "8c589364",
   "metadata": {},
   "outputs": [],
   "source": [
    "targ[targ.user_id.isin(df.user_id.unique())].reset_index(drop=True).to_csv('profitability_target_upd.csv',index=False)"
   ]
  },
  {
   "cell_type": "code",
   "execution_count": null,
   "id": "49e63e65",
   "metadata": {},
   "outputs": [],
   "source": [
    "upd = pd.read_csv(\"profitability_target_upd.csv\")"
   ]
  },
  {
   "cell_type": "code",
   "execution_count": 10,
   "id": "c66259dd",
   "metadata": {},
   "outputs": [
    {
     "data": {
      "text/plain": [
       "['user_id']"
      ]
     },
     "execution_count": 10,
     "metadata": {},
     "output_type": "execute_result"
    }
   ],
   "source": [
    "l1 = list(pd.read_csv('logs_DB_processed.csv').columns)\n",
    "[i for i in l1 if i=='user_id']"
   ]
  },
  {
   "cell_type": "code",
   "execution_count": null,
   "id": "4b2b700d",
   "metadata": {},
   "outputs": [],
   "source": []
  }
 ],
 "metadata": {
  "kernelspec": {
   "display_name": "Python 3 (ipykernel)",
   "language": "python",
   "name": "python3"
  },
  "language_info": {
   "codemirror_mode": {
    "name": "ipython",
    "version": 3
   },
   "file_extension": ".py",
   "mimetype": "text/x-python",
   "name": "python",
   "nbconvert_exporter": "python",
   "pygments_lexer": "ipython3",
   "version": "3.8.10"
  }
 },
 "nbformat": 4,
 "nbformat_minor": 5
}
