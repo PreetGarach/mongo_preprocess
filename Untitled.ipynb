{
 "cells": [
  {
   "cell_type": "code",
   "execution_count": 1,
   "id": "5ae24262",
   "metadata": {},
   "outputs": [],
   "source": [
    "import pandas as pd"
   ]
  },
  {
   "cell_type": "code",
   "execution_count": null,
   "id": "f8052a85",
   "metadata": {},
   "outputs": [],
   "source": []
  },
  {
   "cell_type": "code",
   "execution_count": 2,
   "id": "e30bb886",
   "metadata": {},
   "outputs": [],
   "source": [
    "targ = pd.read_csv('profitability_target.csv')\n",
    "df = pd.read_csv('logs_DB_processed_19042023.csv')"
   ]
  },
  {
   "cell_type": "code",
   "execution_count": 5,
   "id": "6fbcd968",
   "metadata": {},
   "outputs": [],
   "source": [
    "targ[targ.user_id.isin(df.user_id.unique())].reset_index(drop=True).to_csv('profitability_target_upd.csv',index=False)"
   ]
  },
  {
   "cell_type": "code",
   "execution_count": null,
   "id": "bca58300",
   "metadata": {},
   "outputs": [],
   "source": [
    "upd = pd.read_csv(\"profitability_target_upd.csv\")"
   ]
  }
 ],
 "metadata": {
  "kernelspec": {
   "display_name": "Python 3 (ipykernel)",
   "language": "python",
   "name": "python3"
  },
  "language_info": {
   "codemirror_mode": {
    "name": "ipython",
    "version": 3
   },
   "file_extension": ".py",
   "mimetype": "text/x-python",
   "name": "python",
   "nbconvert_exporter": "python",
   "pygments_lexer": "ipython3",
   "version": "3.8.10"
  }
 },
 "nbformat": 4,
 "nbformat_minor": 5
}
